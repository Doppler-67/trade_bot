{
  "cells": [
    {
      "cell_type": "markdown",
      "metadata": {
        "id": "view-in-github",
        "colab_type": "text"
      },
      "source": [
        "<a href=\"https://colab.research.google.com/github/Doppler-67/trade_bot/blob/main/long_rsi_macd.ipynb\" target=\"_parent\"><img src=\"https://colab.research.google.com/assets/colab-badge.svg\" alt=\"Open In Colab\"/></a>"
      ]
    },
    {
      "cell_type": "code",
      "source": [
        "#!pip install talib-binary"
      ],
      "metadata": {
        "id": "9yQeWtBpgsPU"
      },
      "id": "9yQeWtBpgsPU",
      "execution_count": 46,
      "outputs": []
    },
    {
      "cell_type": "code",
      "source": [
        "#!pip install yfinance"
      ],
      "metadata": {
        "id": "jOKqaXFCgvjJ"
      },
      "id": "jOKqaXFCgvjJ",
      "execution_count": 47,
      "outputs": []
    },
    {
      "cell_type": "code",
      "execution_count": 48,
      "id": "7f3c4527",
      "metadata": {
        "id": "7f3c4527"
      },
      "outputs": [],
      "source": [
        "import talib as tb\n",
        "import pandas as pd\n",
        "import numpy as np\n",
        "import seaborn as sns\n",
        "import yfinance as yf"
      ]
    },
    {
      "cell_type": "code",
      "execution_count": 49,
      "id": "66b8a2f5",
      "metadata": {
        "id": "66b8a2f5"
      },
      "outputs": [],
      "source": [
        "pd.set_option(\"display.max_rows\", None, \"display.max_columns\", None)"
      ]
    },
    {
      "cell_type": "code",
      "execution_count": 50,
      "id": "13735e6b",
      "metadata": {
        "id": "13735e6b",
        "outputId": "2603e12a-8b2f-4fb6-b543-3640d97b6fde",
        "colab": {
          "base_uri": "https://localhost:8080/"
        }
      },
      "outputs": [
        {
          "output_type": "stream",
          "name": "stdout",
          "text": [
            "\r[*********************100%***********************]  1 of 1 completed\n"
          ]
        }
      ],
      "source": [
        "data = yf.download('ETH-USD', interval = '2m', period = '60d').reset_index()\n",
        "data = data.drop(['Adj Close', 'Volume'], axis =1)\n",
        "data.columns = data.columns.str.lower()\n",
        "data['rsi'] = tb.RSI(data['close'])\n",
        "data['macd'], data['macd_signal'], data['macd_hist'] = tb.MACD(data['close'])\n",
        "#data['ema200'] = tb.EMA(data['close'], 200) \n",
        "data = data.dropna().reset_index(drop = True)\n",
        "#data['ema200'] = tb.EMA(data['close'], 200) #\n",
        "#data = data.fillna(666) #"
      ]
    },
    {
      "cell_type": "code",
      "source": [
        "data.head()"
      ],
      "metadata": {
        "colab": {
          "base_uri": "https://localhost:8080/",
          "height": 206
        },
        "id": "DYvEiIwfHQn1",
        "outputId": "415d8ab1-eb11-40f9-b509-6ef3a32aaaed"
      },
      "id": "DYvEiIwfHQn1",
      "execution_count": 51,
      "outputs": [
        {
          "output_type": "execute_result",
          "data": {
            "text/plain": [
              "                   datetime         open         high          low  \\\n",
              "0 2022-04-23 01:06:00+00:00  2958.245850  2958.270264  2958.245850   \n",
              "1 2022-04-23 01:08:00+00:00  2958.205566  2958.549072  2958.205566   \n",
              "2 2022-04-23 01:10:00+00:00  2959.605225  2959.605225  2959.605225   \n",
              "3 2022-04-23 01:12:00+00:00  2959.384521  2959.384521  2957.930420   \n",
              "4 2022-04-23 01:14:00+00:00  2957.645996  2957.820068  2957.645996   \n",
              "\n",
              "         close        rsi      macd  macd_signal  macd_hist  \n",
              "0  2958.270264  41.773925 -2.323256    -2.805360   0.482104  \n",
              "1  2958.549072  43.149027 -2.168434    -2.677975   0.509541  \n",
              "2  2959.605225  48.144927 -1.938171    -2.530014   0.591843  \n",
              "3  2957.930420  41.862552 -1.869281    -2.397867   0.528586  \n",
              "4  2957.820068  41.478496 -1.802808    -2.278855   0.476048  "
            ],
            "text/html": [
              "\n",
              "  <div id=\"df-dbdb2e4f-2496-4e55-aa53-8f5beaf80970\">\n",
              "    <div class=\"colab-df-container\">\n",
              "      <div>\n",
              "<style scoped>\n",
              "    .dataframe tbody tr th:only-of-type {\n",
              "        vertical-align: middle;\n",
              "    }\n",
              "\n",
              "    .dataframe tbody tr th {\n",
              "        vertical-align: top;\n",
              "    }\n",
              "\n",
              "    .dataframe thead th {\n",
              "        text-align: right;\n",
              "    }\n",
              "</style>\n",
              "<table border=\"1\" class=\"dataframe\">\n",
              "  <thead>\n",
              "    <tr style=\"text-align: right;\">\n",
              "      <th></th>\n",
              "      <th>datetime</th>\n",
              "      <th>open</th>\n",
              "      <th>high</th>\n",
              "      <th>low</th>\n",
              "      <th>close</th>\n",
              "      <th>rsi</th>\n",
              "      <th>macd</th>\n",
              "      <th>macd_signal</th>\n",
              "      <th>macd_hist</th>\n",
              "    </tr>\n",
              "  </thead>\n",
              "  <tbody>\n",
              "    <tr>\n",
              "      <th>0</th>\n",
              "      <td>2022-04-23 01:06:00+00:00</td>\n",
              "      <td>2958.245850</td>\n",
              "      <td>2958.270264</td>\n",
              "      <td>2958.245850</td>\n",
              "      <td>2958.270264</td>\n",
              "      <td>41.773925</td>\n",
              "      <td>-2.323256</td>\n",
              "      <td>-2.805360</td>\n",
              "      <td>0.482104</td>\n",
              "    </tr>\n",
              "    <tr>\n",
              "      <th>1</th>\n",
              "      <td>2022-04-23 01:08:00+00:00</td>\n",
              "      <td>2958.205566</td>\n",
              "      <td>2958.549072</td>\n",
              "      <td>2958.205566</td>\n",
              "      <td>2958.549072</td>\n",
              "      <td>43.149027</td>\n",
              "      <td>-2.168434</td>\n",
              "      <td>-2.677975</td>\n",
              "      <td>0.509541</td>\n",
              "    </tr>\n",
              "    <tr>\n",
              "      <th>2</th>\n",
              "      <td>2022-04-23 01:10:00+00:00</td>\n",
              "      <td>2959.605225</td>\n",
              "      <td>2959.605225</td>\n",
              "      <td>2959.605225</td>\n",
              "      <td>2959.605225</td>\n",
              "      <td>48.144927</td>\n",
              "      <td>-1.938171</td>\n",
              "      <td>-2.530014</td>\n",
              "      <td>0.591843</td>\n",
              "    </tr>\n",
              "    <tr>\n",
              "      <th>3</th>\n",
              "      <td>2022-04-23 01:12:00+00:00</td>\n",
              "      <td>2959.384521</td>\n",
              "      <td>2959.384521</td>\n",
              "      <td>2957.930420</td>\n",
              "      <td>2957.930420</td>\n",
              "      <td>41.862552</td>\n",
              "      <td>-1.869281</td>\n",
              "      <td>-2.397867</td>\n",
              "      <td>0.528586</td>\n",
              "    </tr>\n",
              "    <tr>\n",
              "      <th>4</th>\n",
              "      <td>2022-04-23 01:14:00+00:00</td>\n",
              "      <td>2957.645996</td>\n",
              "      <td>2957.820068</td>\n",
              "      <td>2957.645996</td>\n",
              "      <td>2957.820068</td>\n",
              "      <td>41.478496</td>\n",
              "      <td>-1.802808</td>\n",
              "      <td>-2.278855</td>\n",
              "      <td>0.476048</td>\n",
              "    </tr>\n",
              "  </tbody>\n",
              "</table>\n",
              "</div>\n",
              "      <button class=\"colab-df-convert\" onclick=\"convertToInteractive('df-dbdb2e4f-2496-4e55-aa53-8f5beaf80970')\"\n",
              "              title=\"Convert this dataframe to an interactive table.\"\n",
              "              style=\"display:none;\">\n",
              "        \n",
              "  <svg xmlns=\"http://www.w3.org/2000/svg\" height=\"24px\"viewBox=\"0 0 24 24\"\n",
              "       width=\"24px\">\n",
              "    <path d=\"M0 0h24v24H0V0z\" fill=\"none\"/>\n",
              "    <path d=\"M18.56 5.44l.94 2.06.94-2.06 2.06-.94-2.06-.94-.94-2.06-.94 2.06-2.06.94zm-11 1L8.5 8.5l.94-2.06 2.06-.94-2.06-.94L8.5 2.5l-.94 2.06-2.06.94zm10 10l.94 2.06.94-2.06 2.06-.94-2.06-.94-.94-2.06-.94 2.06-2.06.94z\"/><path d=\"M17.41 7.96l-1.37-1.37c-.4-.4-.92-.59-1.43-.59-.52 0-1.04.2-1.43.59L10.3 9.45l-7.72 7.72c-.78.78-.78 2.05 0 2.83L4 21.41c.39.39.9.59 1.41.59.51 0 1.02-.2 1.41-.59l7.78-7.78 2.81-2.81c.8-.78.8-2.07 0-2.86zM5.41 20L4 18.59l7.72-7.72 1.47 1.35L5.41 20z\"/>\n",
              "  </svg>\n",
              "      </button>\n",
              "      \n",
              "  <style>\n",
              "    .colab-df-container {\n",
              "      display:flex;\n",
              "      flex-wrap:wrap;\n",
              "      gap: 12px;\n",
              "    }\n",
              "\n",
              "    .colab-df-convert {\n",
              "      background-color: #E8F0FE;\n",
              "      border: none;\n",
              "      border-radius: 50%;\n",
              "      cursor: pointer;\n",
              "      display: none;\n",
              "      fill: #1967D2;\n",
              "      height: 32px;\n",
              "      padding: 0 0 0 0;\n",
              "      width: 32px;\n",
              "    }\n",
              "\n",
              "    .colab-df-convert:hover {\n",
              "      background-color: #E2EBFA;\n",
              "      box-shadow: 0px 1px 2px rgba(60, 64, 67, 0.3), 0px 1px 3px 1px rgba(60, 64, 67, 0.15);\n",
              "      fill: #174EA6;\n",
              "    }\n",
              "\n",
              "    [theme=dark] .colab-df-convert {\n",
              "      background-color: #3B4455;\n",
              "      fill: #D2E3FC;\n",
              "    }\n",
              "\n",
              "    [theme=dark] .colab-df-convert:hover {\n",
              "      background-color: #434B5C;\n",
              "      box-shadow: 0px 1px 3px 1px rgba(0, 0, 0, 0.15);\n",
              "      filter: drop-shadow(0px 1px 2px rgba(0, 0, 0, 0.3));\n",
              "      fill: #FFFFFF;\n",
              "    }\n",
              "  </style>\n",
              "\n",
              "      <script>\n",
              "        const buttonEl =\n",
              "          document.querySelector('#df-dbdb2e4f-2496-4e55-aa53-8f5beaf80970 button.colab-df-convert');\n",
              "        buttonEl.style.display =\n",
              "          google.colab.kernel.accessAllowed ? 'block' : 'none';\n",
              "\n",
              "        async function convertToInteractive(key) {\n",
              "          const element = document.querySelector('#df-dbdb2e4f-2496-4e55-aa53-8f5beaf80970');\n",
              "          const dataTable =\n",
              "            await google.colab.kernel.invokeFunction('convertToInteractive',\n",
              "                                                     [key], {});\n",
              "          if (!dataTable) return;\n",
              "\n",
              "          const docLinkHtml = 'Like what you see? Visit the ' +\n",
              "            '<a target=\"_blank\" href=https://colab.research.google.com/notebooks/data_table.ipynb>data table notebook</a>'\n",
              "            + ' to learn more about interactive tables.';\n",
              "          element.innerHTML = '';\n",
              "          dataTable['output_type'] = 'display_data';\n",
              "          await google.colab.output.renderOutput(dataTable, element);\n",
              "          const docLink = document.createElement('div');\n",
              "          docLink.innerHTML = docLinkHtml;\n",
              "          element.appendChild(docLink);\n",
              "        }\n",
              "      </script>\n",
              "    </div>\n",
              "  </div>\n",
              "  "
            ]
          },
          "metadata": {},
          "execution_count": 51
        }
      ]
    },
    {
      "cell_type": "code",
      "execution_count": 52,
      "id": "32429e90",
      "metadata": {
        "id": "32429e90"
      },
      "outputs": [],
      "source": [
        "def find_buy_signal(start, df):\n",
        "    rsi_min = 30\n",
        "    for i in range(start, len(df) - 1):\n",
        "        if df.iloc[i]['rsi'] <= rsi_min:\n",
        "            for j in range(i, len(df)):\n",
        "                if df.iloc[j-1]['macd_hist'] < 0 and df.iloc[j]['macd_hist'] > 0: # > 0\n",
        "                    return j+1\n",
        "    return -1"
      ]
    },
    {
      "cell_type": "code",
      "execution_count": 53,
      "id": "c4022976",
      "metadata": {
        "id": "c4022976"
      },
      "outputs": [],
      "source": [
        "def find_buy_signal(start, df): # upgraded version\n",
        "    rsi_min = 30\n",
        "    candles_amount = 10\n",
        "    for i in range(start, len(df)):\n",
        "        if df.iloc[i-1]['macd_hist'] < 0 and df.iloc[i]['macd_hist'] > 0:\n",
        "            for j in range(i, i-candles_amount, -1):\n",
        "                if df.iloc[j]['rsi'] <= rsi_min:\n",
        "                    return i+1\n",
        "    return -1"
      ]
    },
    {
      "cell_type": "code",
      "execution_count": 54,
      "id": "ef79b6f1",
      "metadata": {
        "id": "ef79b6f1"
      },
      "outputs": [],
      "source": [
        "def find_sell_signal(start, df, sl, tp):\n",
        "    for i in range(start, len(df) - 1):\n",
        "        if tp <= df.iloc[i]['high']: # tp triggered\n",
        "            return i+1, 1\n",
        "        elif sl >= df.iloc[i]['low']: # sl triggered\n",
        "            return i+1, 0 \n",
        "        #elif df.iloc[i]['macd_hist'] < 0 or df.iloc[i]['rsi'] >= 85: # combo broke\n",
        "        #    return i+1, 666\n",
        "        elif df.iloc[i]['rsi'] >= 80: #\n",
        "            return i+1, 666 #\n",
        "    return -1, -1"
      ]
    },
    {
      "cell_type": "code",
      "execution_count": 55,
      "id": "1c5c7e94",
      "metadata": {
        "id": "1c5c7e94"
      },
      "outputs": [],
      "source": [
        "def long_homyak_bot(df):\n",
        "    money = 1000\n",
        "    tp = 1 + 1.5 / 100 # 1 + x / 100, where x is any percent number\n",
        "    sl = 1 - 0.5 / 100 # 1 - x / 100, where x is any percent number\n",
        "    buy_price = 0\n",
        "    sell_price = 0\n",
        "    start = 10\n",
        "    plus = 0\n",
        "    minus = 0\n",
        "    plot_money = ([])\n",
        "\n",
        "    while True:\n",
        "        plot_money.append(money)\n",
        "        buy_signal_index  = find_buy_signal(start,df) # find buy price\n",
        "        if buy_signal_index != -1: #  if buy signal exists\n",
        "            buy_price = df.iloc[buy_signal_index]['open'] # calculating buy price \n",
        "            tp_price = buy_price * tp\n",
        "            sl_price = buy_price * sl # calculating sl\n",
        "            sell_signal_index, reason = find_sell_signal(buy_signal_index, df, sl_price, tp_price) # find sell price\n",
        "            if sell_signal_index != -1: #if sell signal exists\n",
        "                if reason == 1: # if tp triggered\n",
        "                    sell_price = tp_price # sell price will be tp price\n",
        "                    #print('tp triggered') #\n",
        "                elif reason == 0: # if sl triggered\n",
        "                    sell_price = sl_price # sell price will be sl price\n",
        "                    #print('sl triggered')\n",
        "                else:\n",
        "                    sell_price = df.iloc[sell_signal_index]['open']\n",
        "                    \n",
        "                if sell_price > buy_price:#\n",
        "                    plus +=1#\n",
        "                else:#\n",
        "                    minus +=1#\n",
        "                money = money * (sell_price / buy_price)\n",
        "                start = sell_signal_index\n",
        "                # debug prints\n",
        "                #print(buy_signal_index,df.iloc[buy_signal_index]['datetime'],f' buy price: {buy_price}, tp: {tp_price}, sl: {sl_price}')\n",
        "                #print(sell_signal_index,df.iloc[sell_signal_index]['datetime'],f' sell price: {sell_price}', '\\n')\n",
        "            else:\n",
        "                break\n",
        "          \n",
        "        else:\n",
        "            break\n",
        "    plot_money = pd.DataFrame(plot_money, columns = ['balance'])\n",
        "    plot_money['trade'] = plot_money.index + 1\n",
        "    print(f'кол-во прибыльных трейдов {plus}, а убыточных {minus}')#        \n",
        "    print(money)\n",
        "    sns.lineplot(data=plot_money, x ='trade', y ='balance')"
      ]
    },
    {
      "cell_type": "code",
      "execution_count": 56,
      "id": "6710564c",
      "metadata": {
        "id": "6710564c",
        "outputId": "ffd4139f-7fd9-4da8-dc1e-c46055901bf2",
        "colab": {
          "base_uri": "https://localhost:8080/",
          "height": 315
        }
      },
      "outputs": [
        {
          "output_type": "stream",
          "name": "stdout",
          "text": [
            "кол-во прибыльных трейдов 86, а убыточных 138\n",
            "1216.3656979819134\n"
          ]
        },
        {
          "output_type": "display_data",
          "data": {
            "text/plain": [
              "<Figure size 432x288 with 1 Axes>"
            ],
            "image/png": "[encoded data removed]"
          },
          "metadata": {
            "needs_background": "light"
          }
        }
      ],
      "source": [
        "long_homyak_bot(data)"
      ]
    }
  ],
  "metadata": {
    "kernelspec": {
      "display_name": "Python 3",
      "language": "python",
      "name": "python3"
    },
    "language_info": {
      "codemirror_mode": {
        "name": "ipython",
        "version": 3
      },
      "file_extension": ".py",
      "mimetype": "text/x-python",
      "name": "python",
      "nbconvert_exporter": "python",
      "pygments_lexer": "ipython3",
      "version": "3.8.8"
    },
    "colab": {
      "name": "long_rsi_macd.ipynb",
      "provenance": [],
      "collapsed_sections": [],
      "include_colab_link": true
    }
  },
  "nbformat": 4,
  "nbformat_minor": 5
}